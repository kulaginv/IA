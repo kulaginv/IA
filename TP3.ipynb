{
 "cells": [
  {
   "cell_type": "code",
   "execution_count": 1,
   "id": "555c6a6e",
   "metadata": {},
   "outputs": [],
   "source": [
    "import numpy as np\n",
    "import pandas as pd\n",
    "import matplotlib.pyplot as plt\n",
    "import seaborn as sns\n",
    "from sklearn.model_selection import train_test_split\n",
    "from sklearn.neural_network import MLPClassifier\n",
    "from sklearn.metrics import confusion_matrix, classification_report, roc_curve, roc_auc_score, accuracy_score\n",
    "import torchvision\n",
    "import torch\n",
    "from torch import nn, optim\n",
    "from torchvision import transforms, datasets\n",
    "from PIL import Image\n",
    "import cv2\n",
    "import time"
   ]
  },
  {
   "cell_type": "code",
   "execution_count": 2,
   "id": "1636104d",
   "metadata": {},
   "outputs": [],
   "source": [
    "def make_meshgrid(x, y, h=.02):\n",
    "    x_min, x_max = x.min() - 1, x.max() + 1\n",
    "    y_min, y_max = y.min() - 1, y.max() + 1\n",
    "    xx, yy = np.meshgrid(np.arange(x_min, x_max, h), np.arange(y_min, y_max, h))\n",
    "    return xx, yy\n",
    "\n",
    "def plot_contours(ax, clf, xx, yy, **params):\n",
    "    Z = clf.predict(np.c_[xx.ravel(), yy.ravel()])\n",
    "    Z = Z.reshape(xx.shape)\n",
    "    out = ax.contourf(xx, yy, Z, **params)\n",
    "    return out\n",
    "\n",
    "def decision_boundary(F_data, T_data, clf, title='', ylabel='', xlabel=''):\n",
    "    fig, ax = plt.subplots()\n",
    "    title = (title)\n",
    "    X0, X1 = F_data[:, 0], F_data[:, 1]\n",
    "    xx, yy = make_meshgrid(X0, X1)\n",
    "\n",
    "    plot_contours(ax, clf, xx, yy, cmap=plt.cm.coolwarm, alpha=0.8)\n",
    "    ax.scatter(X0, X1, c=T_data, cmap=plt.cm.coolwarm, s=20, edgecolors='k')\n",
    "    ax.set_ylabel(ylabel)\n",
    "    ax.set_xlabel(xlabel)\n",
    "    ax.set_xticks(())\n",
    "    ax.set_yticks(())\n",
    "    ax.set_title(title)\n",
    "    plt.show()\n",
    "    \n",
    "def get_all_metrics(X_test, y_test, y_pred, model, F_data, T_data, multiclass=False):\n",
    "    cmatrix = confusion_matrix(y_test, y_pred)\n",
    "    print('Confusion matrix:\\n', cmatrix)\n",
    "    plt.figure()\n",
    "    sns.heatmap(cmatrix, annot=True, cmap='RdYlBu')\n",
    "    plt.title('Matrice de Confusion')\n",
    "    \n",
    "    if not multiclass:\n",
    "        proba = model.predict_proba(X_test)\n",
    "        FPR, TPR, THS = roc_curve(y_test, proba[:,1])\n",
    "        score = roc_auc_score(y_test, proba[:,1])\n",
    "        print(f'Roc Auc Score = {score}')\n",
    "    \n",
    "        plt.figure()\n",
    "        plt.plot(FPR, TPR, label=f'AUC = {score:.2}')\n",
    "        plt.plot([x/100 for x in range(0,100)], [x/100 for x in range(0,100)], '--', color='r')\n",
    "        plt.legend()\n",
    "        plt.title(\"Courbe ROC\")\n",
    "        plt.ylabel('True Positive Rate')\n",
    "        plt.xlabel('False Positive Rate')\n",
    "        \n",
    "        decision_boundary(F_data, T_data, model, title='Frontière de décision')\n",
    "    \n",
    "    acc_score = accuracy_score(y_test, y_pred)\n",
    "    print(f'Accuracy score = {acc_score}')"
   ]
  },
  {
   "cell_type": "code",
   "execution_count": 3,
   "id": "6e2ebdd3",
   "metadata": {},
   "outputs": [
    {
     "data": {
      "text/plain": [
       "['F', 'T']"
      ]
     },
     "execution_count": 3,
     "metadata": {},
     "output_type": "execute_result"
    }
   ],
   "source": [
    "data = np.load('Data/ClassLearn1.npz')\n",
    "lst = data.files\n",
    "lst"
   ]
  },
  {
   "cell_type": "code",
   "execution_count": 4,
   "id": "bdaff645",
   "metadata": {},
   "outputs": [],
   "source": [
    "F_data = data['F']\n",
    "T_data = data['T']"
   ]
  },
  {
   "cell_type": "code",
   "execution_count": 5,
   "id": "b3d9516d",
   "metadata": {},
   "outputs": [
    {
     "name": "stdout",
     "output_type": "stream",
     "text": [
      "F data shape =  (150, 2)\n",
      "T data shape =  (150,)\n"
     ]
    },
    {
     "data": {
      "text/plain": [
       "<AxesSubplot:>"
      ]
     },
     "execution_count": 5,
     "metadata": {},
     "output_type": "execute_result"
    },
    {
     "data": {
      "image/png": "[encoded data removed]",
      "text/plain": [
       "<Figure size 432x288 with 4 Axes>"
      ]
     },
     "metadata": {
      "needs_background": "light"
     },
     "output_type": "display_data"
    },
    {
     "data": {
      "image/png": "[encoded data removed]",
      "text/plain": [
       "<Figure size 432x288 with 2 Axes>"
      ]
     },
     "metadata": {
      "needs_background": "light"
     },
     "output_type": "display_data"
    }
   ],
   "source": [
    "print('F data shape = ', F_data.shape)\n",
    "print('T data shape = ', T_data.shape)\n",
    "\n",
    "F_data_df = pd.DataFrame(data['F'])\n",
    "pd.plotting.scatter_matrix(F_data_df)\n",
    "\n",
    "plt.figure()\n",
    "sns.heatmap(F_data_df.corr(), annot=True, cmap='RdYlBu')"
   ]
  },
  {
   "cell_type": "code",
   "execution_count": 6,
   "id": "4906406c",
   "metadata": {},
   "outputs": [],
   "source": [
    "X_train, X_test, y_train, y_test = train_test_split(F_data, T_data, test_size=0.2)"
   ]
  },
  {
   "cell_type": "code",
   "execution_count": 7,
   "id": "859ccd12",
   "metadata": {},
   "outputs": [
    {
     "name": "stdout",
     "output_type": "stream",
     "text": [
      "Iteration 1, loss = 1.13835795\n",
      "Iteration 2, loss = 1.12941674\n",
      "Iteration 3, loss = 1.12058859\n",
      "Iteration 4, loss = 1.11185717\n",
      "Iteration 5, loss = 1.10321061\n",
      "Iteration 6, loss = 1.09464970\n",
      "Iteration 7, loss = 1.08617480\n",
      "Iteration 8, loss = 1.07779118\n",
      "Iteration 9, loss = 1.06952490\n",
      "Iteration 10, loss = 1.06134096\n",
      "Iteration 11, loss = 1.05324001\n",
      "Iteration 12, loss = 1.04522270\n",
      "Iteration 13, loss = 1.03728539\n",
      "Iteration 14, loss = 1.02942345\n",
      "Iteration 15, loss = 1.02165801\n",
      "Iteration 16, loss = 1.01398264\n",
      "Iteration 17, loss = 1.00639901\n",
      "Iteration 18, loss = 0.99890844\n",
      "Iteration 19, loss = 0.99150727\n",
      "Iteration 20, loss = 0.98419568\n",
      "Iteration 21, loss = 0.97696422\n",
      "Iteration 22, loss = 0.96979967\n",
      "Iteration 23, loss = 0.96272452\n",
      "Iteration 24, loss = 0.95573838\n",
      "Iteration 25, loss = 0.94883902\n",
      "Iteration 26, loss = 0.94204128\n",
      "Iteration 27, loss = 0.93533146\n",
      "Iteration 28, loss = 0.92870909\n",
      "Iteration 29, loss = 0.92218376\n",
      "Iteration 30, loss = 0.91575201\n",
      "Iteration 31, loss = 0.90943153\n",
      "Iteration 32, loss = 0.90319479\n",
      "Iteration 33, loss = 0.89704178\n",
      "Iteration 34, loss = 0.89097302\n",
      "Iteration 35, loss = 0.88499715\n",
      "Iteration 36, loss = 0.87910360\n",
      "Iteration 37, loss = 0.87329160\n",
      "Iteration 38, loss = 0.86755642\n",
      "Iteration 39, loss = 0.86190814\n",
      "Iteration 40, loss = 0.85633802\n",
      "Iteration 41, loss = 0.85086023\n",
      "Iteration 42, loss = 0.84545786\n",
      "Iteration 43, loss = 0.84012959\n",
      "Iteration 44, loss = 0.83487465\n",
      "Iteration 45, loss = 0.82969184\n",
      "Iteration 46, loss = 0.82457895\n",
      "Iteration 47, loss = 0.81954292\n",
      "Iteration 48, loss = 0.81456747\n",
      "Iteration 49, loss = 0.80966752\n",
      "Iteration 50, loss = 0.80483318\n",
      "Iteration 51, loss = 0.80008160\n",
      "Iteration 52, loss = 0.79539839\n",
      "Iteration 53, loss = 0.79078395\n",
      "Iteration 54, loss = 0.78623803\n",
      "Iteration 55, loss = 0.78175390\n",
      "Iteration 56, loss = 0.77734098\n",
      "Iteration 57, loss = 0.77299275\n",
      "Iteration 58, loss = 0.76869549\n",
      "Iteration 59, loss = 0.76444864\n",
      "Iteration 60, loss = 0.76026419\n",
      "Iteration 61, loss = 0.75614152\n",
      "Iteration 62, loss = 0.75207283\n",
      "Iteration 63, loss = 0.74806407\n",
      "Iteration 64, loss = 0.74411072\n",
      "Iteration 65, loss = 0.74021093\n",
      "Iteration 66, loss = 0.73637880\n",
      "Iteration 67, loss = 0.73260612\n",
      "Iteration 68, loss = 0.72888893\n",
      "Iteration 69, loss = 0.72522902\n",
      "Iteration 70, loss = 0.72162422\n",
      "Iteration 71, loss = 0.71805919\n",
      "Iteration 72, loss = 0.71454295\n",
      "Iteration 73, loss = 0.71107472\n",
      "Iteration 74, loss = 0.70765303\n",
      "Iteration 75, loss = 0.70427656\n",
      "Iteration 76, loss = 0.70094560\n",
      "Iteration 77, loss = 0.69765941\n",
      "Iteration 78, loss = 0.69441727\n",
      "Iteration 79, loss = 0.69121630\n",
      "Iteration 80, loss = 0.68805519\n",
      "Iteration 81, loss = 0.68493782\n",
      "Iteration 82, loss = 0.68186150\n",
      "Iteration 83, loss = 0.67881517\n",
      "Iteration 84, loss = 0.67579858\n",
      "Iteration 85, loss = 0.67281982\n",
      "Iteration 86, loss = 0.66987852\n",
      "Iteration 87, loss = 0.66697427\n",
      "Iteration 88, loss = 0.66409840\n",
      "Iteration 89, loss = 0.66125411\n",
      "Iteration 90, loss = 0.65844567\n",
      "Iteration 91, loss = 0.65567322\n",
      "Iteration 92, loss = 0.65293543\n",
      "Iteration 93, loss = 0.65023509\n",
      "Iteration 94, loss = 0.64756848\n",
      "Iteration 95, loss = 0.64493204\n",
      "Iteration 96, loss = 0.64232644\n",
      "Iteration 97, loss = 0.63975019\n",
      "Iteration 98, loss = 0.63720511\n",
      "Iteration 99, loss = 0.63469080\n",
      "Iteration 100, loss = 0.63219137\n",
      "Iteration 101, loss = 0.62970929\n",
      "Iteration 102, loss = 0.62725470\n",
      "Iteration 103, loss = 0.62482292\n",
      "Iteration 104, loss = 0.62241926\n",
      "Iteration 105, loss = 0.62004255\n",
      "Iteration 106, loss = 0.61769263\n",
      "Iteration 107, loss = 0.61535866\n",
      "Iteration 108, loss = 0.61304407\n",
      "Iteration 109, loss = 0.61075445\n",
      "Iteration 110, loss = 0.60848662\n",
      "Iteration 111, loss = 0.60624189\n",
      "Iteration 112, loss = 0.60402220\n",
      "Iteration 113, loss = 0.60182709\n",
      "Iteration 114, loss = 0.59965459\n",
      "Iteration 115, loss = 0.59750445\n",
      "Iteration 116, loss = 0.59537765\n",
      "Iteration 117, loss = 0.59327401\n",
      "Iteration 118, loss = 0.59118674\n",
      "Iteration 119, loss = 0.58911937\n",
      "Iteration 120, loss = 0.58707400\n",
      "Iteration 121, loss = 0.58505048\n",
      "Iteration 122, loss = 0.58304485\n",
      "Iteration 123, loss = 0.58105573\n",
      "Iteration 124, loss = 0.57908735\n",
      "Iteration 125, loss = 0.57713731\n",
      "Iteration 126, loss = 0.57519918\n",
      "Iteration 127, loss = 0.57327285\n",
      "Iteration 128, loss = 0.57136558\n",
      "Iteration 129, loss = 0.56947699\n",
      "Iteration 130, loss = 0.56759878\n",
      "Iteration 131, loss = 0.56573812\n",
      "Iteration 132, loss = 0.56389358\n",
      "Iteration 133, loss = 0.56206715\n",
      "Iteration 134, loss = 0.56025882\n",
      "Iteration 135, loss = 0.55846853\n",
      "Iteration 136, loss = 0.55669618\n",
      "Iteration 137, loss = 0.55494103\n",
      "Iteration 138, loss = 0.55320332\n",
      "Iteration 139, loss = 0.55148348\n",
      "Iteration 140, loss = 0.54978057\n",
      "Iteration 141, loss = 0.54809061\n",
      "Iteration 142, loss = 0.54641763\n",
      "Iteration 143, loss = 0.54476176\n",
      "Iteration 144, loss = 0.54312222\n",
      "Iteration 145, loss = 0.54149844\n",
      "Iteration 146, loss = 0.53988921\n",
      "Iteration 147, loss = 0.53829219\n",
      "Iteration 148, loss = 0.53670270\n",
      "Iteration 149, loss = 0.53512792\n",
      "Iteration 150, loss = 0.53356778\n",
      "Iteration 151, loss = 0.53202157\n",
      "Iteration 152, loss = 0.53048716\n",
      "Iteration 153, loss = 0.52896700\n",
      "Iteration 154, loss = 0.52746153\n",
      "Iteration 155, loss = 0.52596898\n",
      "Iteration 156, loss = 0.52447409\n",
      "Iteration 157, loss = 0.52298852\n",
      "Iteration 158, loss = 0.52152234\n",
      "Iteration 159, loss = 0.52006614\n",
      "Iteration 160, loss = 0.51861658\n",
      "Iteration 161, loss = 0.51716917\n",
      "Iteration 162, loss = 0.51573215\n",
      "Iteration 163, loss = 0.51430573\n",
      "Iteration 164, loss = 0.51289003\n",
      "Iteration 165, loss = 0.51148513\n",
      "Iteration 166, loss = 0.51009108\n",
      "Iteration 167, loss = 0.50870789\n",
      "Iteration 168, loss = 0.50733392\n",
      "Iteration 169, loss = 0.50596612\n",
      "Iteration 170, loss = 0.50460953\n",
      "Iteration 171, loss = 0.50326976\n",
      "Iteration 172, loss = 0.50194079\n",
      "Iteration 173, loss = 0.50062144\n",
      "Iteration 174, loss = 0.49931264\n",
      "Iteration 175, loss = 0.49801463\n",
      "Iteration 176, loss = 0.49672294\n",
      "Iteration 177, loss = 0.49543826\n",
      "Iteration 178, loss = 0.49416078\n",
      "Iteration 179, loss = 0.49288599\n",
      "Iteration 180, loss = 0.49161358\n",
      "Iteration 181, loss = 0.49034457\n",
      "Iteration 182, loss = 0.48907223\n",
      "Iteration 183, loss = 0.48780343\n",
      "Iteration 184, loss = 0.48653701\n",
      "Iteration 185, loss = 0.48527403\n",
      "Iteration 186, loss = 0.48401673\n",
      "Iteration 187, loss = 0.48275428\n",
      "Iteration 188, loss = 0.48149102\n",
      "Iteration 189, loss = 0.48023167\n",
      "Iteration 190, loss = 0.47897110\n",
      "Iteration 191, loss = 0.47771600\n",
      "Iteration 192, loss = 0.47646948\n",
      "Iteration 193, loss = 0.47523159\n",
      "Iteration 194, loss = 0.47399837\n",
      "Iteration 195, loss = 0.47276233\n",
      "Iteration 196, loss = 0.47153263\n",
      "Iteration 197, loss = 0.47030741\n",
      "Iteration 198, loss = 0.46908496\n",
      "Iteration 199, loss = 0.46786350\n",
      "Iteration 200, loss = 0.46664192\n",
      "0.8666666666666667 0.8083333333333333\n",
      "              precision    recall  f1-score   support\n",
      "\n",
      "           0       0.81      0.93      0.87        14\n",
      "           1       0.93      0.81      0.87        16\n",
      "\n",
      "    accuracy                           0.87        30\n",
      "   macro avg       0.87      0.87      0.87        30\n",
      "weighted avg       0.87      0.87      0.87        30\n",
      "\n",
      "Confusion matrix:\n",
      " [[13  1]\n",
      " [ 3 13]]\n",
      "Roc Auc Score = 0.9107142857142857\n"
     ]
    },
    {
     "name": "stderr",
     "output_type": "stream",
     "text": [
      "C:\\Users\\Vasily\\anaconda3\\lib\\site-packages\\sklearn\\neural_network\\_multilayer_perceptron.py:702: ConvergenceWarning: Stochastic Optimizer: Maximum iterations (200) reached and the optimization hasn't converged yet.\n",
      "  warnings.warn(\n"
     ]
    },
    {
     "data": {
      "image/png": "[encoded data removed]",
      "text/plain": [
       "<Figure size 432x288 with 2 Axes>"
      ]
     },
     "metadata": {
      "needs_background": "light"
     },
     "output_type": "display_data"
    },
    {
     "data": {
      "image/png": "[encoded data removed]",
      "text/plain": [
       "<Figure size 432x288 with 1 Axes>"
      ]
     },
     "metadata": {
      "needs_background": "light"
     },
     "output_type": "display_data"
    },
    {
     "data": {
      "image/png": "[encoded data removed]",
      "text/plain": [
       "<Figure size 432x288 with 1 Axes>"
      ]
     },
     "metadata": {},
     "output_type": "display_data"
    },
    {
     "name": "stdout",
     "output_type": "stream",
     "text": [
      "Accuracy score = 0.8666666666666667\n"
     ]
    }
   ],
   "source": [
    "MLP = MLPClassifier(hidden_layer_sizes=(10,), verbose=True).fit(X_train, y_train)\n",
    "print(MLP.score(X_test, y_test), MLP.score(X_train, y_train))\n",
    "y_pred = MLP.predict(X_test)\n",
    "print(classification_report(y_test, y_pred))\n",
    "get_all_metrics(X_test, y_test, y_pred, MLP, F_data, T_data)"
   ]
  },
  {
   "cell_type": "markdown",
   "id": "3b108ebd",
   "metadata": {},
   "source": [
    "### Questions 9-10"
   ]
  },
  {
   "cell_type": "code",
   "execution_count": 8,
   "id": "882525ec",
   "metadata": {},
   "outputs": [
    {
     "name": "stdout",
     "output_type": "stream",
     "text": [
      "Iteration 1, loss = 0.66224804\n",
      "Iteration 2, loss = 0.66083495\n",
      "Iteration 3, loss = 0.65943424\n",
      "Iteration 4, loss = 0.65805276\n",
      "Iteration 5, loss = 0.65670884\n",
      "Iteration 6, loss = 0.65539886\n",
      "Iteration 7, loss = 0.65410524\n",
      "Iteration 8, loss = 0.65283623\n",
      "Iteration 9, loss = 0.65158676\n",
      "Iteration 10, loss = 0.65035970\n",
      "Iteration 11, loss = 0.64912990\n",
      "Iteration 12, loss = 0.64791911\n",
      "Iteration 13, loss = 0.64672775\n",
      "Iteration 14, loss = 0.64556209\n",
      "Iteration 15, loss = 0.64440613\n",
      "Iteration 16, loss = 0.64326143\n",
      "Iteration 17, loss = 0.64212577\n",
      "Iteration 18, loss = 0.64100061\n",
      "Iteration 19, loss = 0.63988476\n",
      "Iteration 20, loss = 0.63877708\n",
      "Iteration 21, loss = 0.63767887\n",
      "Iteration 22, loss = 0.63658825\n",
      "Iteration 23, loss = 0.63550136\n",
      "Iteration 24, loss = 0.63441995\n",
      "Iteration 25, loss = 0.63334475\n",
      "Iteration 26, loss = 0.63227588\n",
      "Iteration 27, loss = 0.63121021\n",
      "Iteration 28, loss = 0.63014728\n",
      "Iteration 29, loss = 0.62908785\n",
      "Iteration 30, loss = 0.62802976\n",
      "Iteration 31, loss = 0.62697092\n",
      "Iteration 32, loss = 0.62590928\n",
      "Iteration 33, loss = 0.62484631\n",
      "Iteration 34, loss = 0.62378371\n",
      "Iteration 35, loss = 0.62272054\n",
      "Iteration 36, loss = 0.62165497\n",
      "Iteration 37, loss = 0.62058670\n",
      "Iteration 38, loss = 0.61951654\n",
      "Iteration 39, loss = 0.61844471\n",
      "Iteration 40, loss = 0.61737067\n",
      "Iteration 41, loss = 0.61629654\n",
      "Iteration 42, loss = 0.61521568\n",
      "Iteration 43, loss = 0.61413257\n",
      "Iteration 44, loss = 0.61304465\n",
      "Iteration 45, loss = 0.61194865\n",
      "Iteration 46, loss = 0.61085089\n",
      "Iteration 47, loss = 0.60975434\n",
      "Iteration 48, loss = 0.60865538\n",
      "Iteration 49, loss = 0.60755454\n",
      "Iteration 50, loss = 0.60645048\n",
      "Iteration 51, loss = 0.60534056\n",
      "Iteration 52, loss = 0.60423131\n",
      "Iteration 53, loss = 0.60311935\n",
      "Iteration 54, loss = 0.60200169\n",
      "Iteration 55, loss = 0.60087814\n",
      "Iteration 56, loss = 0.59975161\n",
      "Iteration 57, loss = 0.59861862\n",
      "Iteration 58, loss = 0.59747801\n",
      "Iteration 59, loss = 0.59632688\n",
      "Iteration 60, loss = 0.59516883\n",
      "Iteration 61, loss = 0.59401826\n",
      "Iteration 62, loss = 0.59286615\n",
      "Iteration 63, loss = 0.59171480\n",
      "Iteration 64, loss = 0.59055762\n",
      "Iteration 65, loss = 0.58939462\n",
      "Iteration 66, loss = 0.58822422\n",
      "Iteration 67, loss = 0.58705006\n",
      "Iteration 68, loss = 0.58586765\n",
      "Iteration 69, loss = 0.58467689\n",
      "Iteration 70, loss = 0.58347739\n",
      "Iteration 71, loss = 0.58226529\n",
      "Iteration 72, loss = 0.58103861\n",
      "Iteration 73, loss = 0.57980273\n",
      "Iteration 74, loss = 0.57855912\n",
      "Iteration 75, loss = 0.57730578\n",
      "Iteration 76, loss = 0.57604682\n",
      "Iteration 77, loss = 0.57477914\n",
      "Iteration 78, loss = 0.57350102\n",
      "Iteration 79, loss = 0.57221063\n",
      "Iteration 80, loss = 0.57090976\n",
      "Iteration 81, loss = 0.56959885\n",
      "Iteration 82, loss = 0.56827715\n",
      "Iteration 83, loss = 0.56694197\n",
      "Iteration 84, loss = 0.56559703\n",
      "Iteration 85, loss = 0.56424349\n",
      "Iteration 86, loss = 0.56287635\n",
      "Iteration 87, loss = 0.56149888\n",
      "Iteration 88, loss = 0.56011407\n",
      "Iteration 89, loss = 0.55872633\n",
      "Iteration 90, loss = 0.55732348\n",
      "Iteration 91, loss = 0.55590512\n",
      "Iteration 92, loss = 0.55446717\n",
      "Iteration 93, loss = 0.55301924\n",
      "Iteration 94, loss = 0.55156327\n",
      "Iteration 95, loss = 0.55009377\n",
      "Iteration 96, loss = 0.54860983\n",
      "Iteration 97, loss = 0.54710933\n",
      "Iteration 98, loss = 0.54559491\n",
      "Iteration 99, loss = 0.54408976\n",
      "Iteration 100, loss = 0.54257421\n",
      "Iteration 101, loss = 0.54104617\n",
      "Iteration 102, loss = 0.53950199\n",
      "Iteration 103, loss = 0.53793622\n",
      "Iteration 104, loss = 0.53635710\n",
      "Iteration 105, loss = 0.53476179\n",
      "Iteration 106, loss = 0.53314905\n",
      "Iteration 107, loss = 0.53152252\n",
      "Iteration 108, loss = 0.52988039\n",
      "Iteration 109, loss = 0.52822217\n",
      "Iteration 110, loss = 0.52656713\n",
      "Iteration 111, loss = 0.52490301\n",
      "Iteration 112, loss = 0.52324255\n",
      "Iteration 113, loss = 0.52156579\n",
      "Iteration 114, loss = 0.51988305\n",
      "Iteration 115, loss = 0.51819085\n",
      "Iteration 116, loss = 0.51649711\n",
      "Iteration 117, loss = 0.51480344\n",
      "Iteration 118, loss = 0.51308851\n",
      "Iteration 119, loss = 0.51134516\n",
      "Iteration 120, loss = 0.50959248\n",
      "Iteration 121, loss = 0.50783199\n",
      "Iteration 122, loss = 0.50605801\n",
      "Iteration 123, loss = 0.50427446\n",
      "Iteration 124, loss = 0.50251623\n",
      "Iteration 125, loss = 0.50074424\n",
      "Iteration 126, loss = 0.49894815\n",
      "Iteration 127, loss = 0.49714707\n",
      "Iteration 128, loss = 0.49533899\n",
      "Iteration 129, loss = 0.49352643\n",
      "Iteration 130, loss = 0.49170604\n",
      "Iteration 131, loss = 0.48988702\n",
      "Iteration 132, loss = 0.48808192\n",
      "Iteration 133, loss = 0.48629157\n",
      "Iteration 134, loss = 0.48451036\n",
      "Iteration 135, loss = 0.48272728\n",
      "Iteration 136, loss = 0.48092289\n",
      "Iteration 137, loss = 0.47910724\n",
      "Iteration 138, loss = 0.47727863\n",
      "Iteration 139, loss = 0.47544921\n",
      "Iteration 140, loss = 0.47362019\n",
      "Iteration 141, loss = 0.47178072\n",
      "Iteration 142, loss = 0.46994058\n",
      "Iteration 143, loss = 0.46811749\n",
      "Iteration 144, loss = 0.46629622\n",
      "Iteration 145, loss = 0.46447234\n",
      "Iteration 146, loss = 0.46264196\n",
      "Iteration 147, loss = 0.46080398\n",
      "Iteration 148, loss = 0.45896190\n",
      "Iteration 149, loss = 0.45711912\n",
      "Iteration 150, loss = 0.45528490\n",
      "Iteration 151, loss = 0.45345389\n",
      "Iteration 152, loss = 0.45160518\n",
      "Iteration 153, loss = 0.44973004\n",
      "Iteration 154, loss = 0.44785902\n",
      "Iteration 155, loss = 0.44597354\n",
      "Iteration 156, loss = 0.44408621\n",
      "Iteration 157, loss = 0.44220341\n",
      "Iteration 158, loss = 0.44031133\n",
      "Iteration 159, loss = 0.43841610\n",
      "Iteration 160, loss = 0.43651988\n",
      "Iteration 161, loss = 0.43462295\n",
      "Iteration 162, loss = 0.43272525\n",
      "Iteration 163, loss = 0.43080375\n",
      "Iteration 164, loss = 0.42887229\n",
      "Iteration 165, loss = 0.42691998\n",
      "Iteration 166, loss = 0.42498596\n",
      "Iteration 167, loss = 0.42306352\n",
      "Iteration 168, loss = 0.42114110\n",
      "Iteration 169, loss = 0.41922240\n",
      "Iteration 170, loss = 0.41730586\n",
      "Iteration 171, loss = 0.41536142\n",
      "Iteration 172, loss = 0.41341877\n",
      "Iteration 173, loss = 0.41146266\n",
      "Iteration 174, loss = 0.40945981\n",
      "Iteration 175, loss = 0.40743242\n",
      "Iteration 176, loss = 0.40540253\n",
      "Iteration 177, loss = 0.40339265\n",
      "Iteration 178, loss = 0.40137279\n",
      "Iteration 179, loss = 0.39933182\n",
      "Iteration 180, loss = 0.39729474\n",
      "Iteration 181, loss = 0.39524184\n",
      "Iteration 182, loss = 0.39318573\n",
      "Iteration 183, loss = 0.39108553\n",
      "Iteration 184, loss = 0.38899824\n",
      "Iteration 185, loss = 0.38686348\n",
      "Iteration 186, loss = 0.38473598\n",
      "Iteration 187, loss = 0.38261242\n",
      "Iteration 188, loss = 0.38048761\n",
      "Iteration 189, loss = 0.37838419\n",
      "Iteration 190, loss = 0.37622996\n",
      "Iteration 191, loss = 0.37407739\n",
      "Iteration 192, loss = 0.37192405\n",
      "Iteration 193, loss = 0.36979070\n",
      "Iteration 194, loss = 0.36766693\n",
      "Iteration 195, loss = 0.36554406\n",
      "Iteration 196, loss = 0.36345094\n",
      "Iteration 197, loss = 0.36140536\n",
      "Iteration 198, loss = 0.35937698\n",
      "Iteration 199, loss = 0.35739350\n",
      "Iteration 200, loss = 0.35531874\n",
      "0.9333333333333333 0.875\n",
      "              precision    recall  f1-score   support\n",
      "\n",
      "           0       0.88      1.00      0.93        14\n",
      "           1       1.00      0.88      0.93        16\n",
      "\n",
      "    accuracy                           0.93        30\n",
      "   macro avg       0.94      0.94      0.93        30\n",
      "weighted avg       0.94      0.93      0.93        30\n",
      "\n",
      "Confusion matrix:\n",
      " [[14  0]\n",
      " [ 2 14]]\n",
      "Roc Auc Score = 0.9821428571428571\n"
     ]
    },
    {
     "name": "stderr",
     "output_type": "stream",
     "text": [
      "C:\\Users\\Vasily\\anaconda3\\lib\\site-packages\\sklearn\\neural_network\\_multilayer_perceptron.py:702: ConvergenceWarning: Stochastic Optimizer: Maximum iterations (200) reached and the optimization hasn't converged yet.\n",
      "  warnings.warn(\n"
     ]
    },
    {
     "data": {
      "image/png": "[encoded data removed]",
      "text/plain": [
       "<Figure size 432x288 with 2 Axes>"
      ]
     },
     "metadata": {
      "needs_background": "light"
     },
     "output_type": "display_data"
    },
    {
     "data": {
      "image/png": "[encoded data removed]",
      "text/plain": [
       "<Figure size 432x288 with 1 Axes>"
      ]
     },
     "metadata": {
      "needs_background": "light"
     },
     "output_type": "display_data"
    },
    {
     "data": {
      "image/png": "[encoded data removed]",
      "text/plain": [
       "<Figure size 432x288 with 1 Axes>"
      ]
     },
     "metadata": {},
     "output_type": "display_data"
    },
    {
     "name": "stdout",
     "output_type": "stream",
     "text": [
      "Accuracy score = 0.9333333333333333\n"
     ]
    }
   ],
   "source": [
    "MLP = MLPClassifier(hidden_layer_sizes=(5, 5, 5), verbose=True).fit(X_train, y_train)\n",
    "print(MLP.score(X_test, y_test), MLP.score(X_train, y_train))\n",
    "y_pred = MLP.predict(X_test)\n",
    "print(classification_report(y_test, y_pred))\n",
    "get_all_metrics(X_test, y_test, y_pred, MLP, F_data, T_data)"
   ]
  },
  {
   "cell_type": "code",
   "execution_count": 9,
   "id": "9e721703",
   "metadata": {
    "scrolled": false
   },
   "outputs": [
    {
     "name": "stdout",
     "output_type": "stream",
     "text": [
      "0.8666666666666667 0.9083333333333333\n",
      "              precision    recall  f1-score   support\n",
      "\n",
      "           0       0.92      0.79      0.85        14\n",
      "           1       0.83      0.94      0.88        16\n",
      "\n",
      "    accuracy                           0.87        30\n",
      "   macro avg       0.88      0.86      0.86        30\n",
      "weighted avg       0.87      0.87      0.87        30\n",
      "\n",
      "Confusion matrix:\n",
      " [[11  3]\n",
      " [ 1 15]]\n",
      "Roc Auc Score = 0.96875\n"
     ]
    },
    {
     "name": "stderr",
     "output_type": "stream",
     "text": [
      "C:\\Users\\Vasily\\anaconda3\\lib\\site-packages\\sklearn\\neural_network\\_multilayer_perceptron.py:559: ConvergenceWarning: lbfgs failed to converge (status=1):\n",
      "STOP: TOTAL NO. of ITERATIONS REACHED LIMIT.\n",
      "\n",
      "Increase the number of iterations (max_iter) or scale the data as shown in:\n",
      "    https://scikit-learn.org/stable/modules/preprocessing.html\n",
      "  self.n_iter_ = _check_optimize_result(\"lbfgs\", opt_res, self.max_iter)\n"
     ]
    },
    {
     "data": {
      "image/png": "[encoded data removed]",
      "text/plain": [
       "<Figure size 432x288 with 2 Axes>"
      ]
     },
     "metadata": {
      "needs_background": "light"
     },
     "output_type": "display_data"
    },
    {
     "data": {
      "image/png": "[encoded data removed]",
      "text/plain": [
       "<Figure size 432x288 with 1 Axes>"
      ]
     },
     "metadata": {
      "needs_background": "light"
     },
     "output_type": "display_data"
    },
    {
     "data": {
      "image/png": "[encoded data removed]",
      "text/plain": [
       "<Figure size 432x288 with 1 Axes>"
      ]
     },
     "metadata": {},
     "output_type": "display_data"
    },
    {
     "name": "stdout",
     "output_type": "stream",
     "text": [
      "Accuracy score = 0.8666666666666667\n"
     ]
    }
   ],
   "source": [
    "MLP = MLPClassifier(hidden_layer_sizes=(10,), verbose=True, solver='lbfgs').fit(X_train, y_train)\n",
    "print(MLP.score(X_test, y_test), MLP.score(X_train, y_train))\n",
    "y_pred = MLP.predict(X_test)\n",
    "print(classification_report(y_test, y_pred))\n",
    "get_all_metrics(X_test, y_test, y_pred, MLP, F_data, T_data)"
   ]
  },
  {
   "cell_type": "code",
   "execution_count": 10,
   "id": "0861b371",
   "metadata": {},
   "outputs": [
    {
     "name": "stdout",
     "output_type": "stream",
     "text": [
      "0.9333333333333333 0.9083333333333333\n",
      "              precision    recall  f1-score   support\n",
      "\n",
      "           0       0.93      0.93      0.93        14\n",
      "           1       0.94      0.94      0.94        16\n",
      "\n",
      "    accuracy                           0.93        30\n",
      "   macro avg       0.93      0.93      0.93        30\n",
      "weighted avg       0.93      0.93      0.93        30\n",
      "\n",
      "Confusion matrix:\n",
      " [[13  1]\n",
      " [ 1 15]]\n",
      "Roc Auc Score = 0.9821428571428571\n"
     ]
    },
    {
     "data": {
      "image/png": "[encoded data removed]",
      "text/plain": [
       "<Figure size 432x288 with 2 Axes>"
      ]
     },
     "metadata": {
      "needs_background": "light"
     },
     "output_type": "display_data"
    },
    {
     "data": {
      "image/png": "[encoded data removed]",
      "text/plain": [
       "<Figure size 432x288 with 1 Axes>"
      ]
     },
     "metadata": {
      "needs_background": "light"
     },
     "output_type": "display_data"
    },
    {
     "data": {
      "image/png": "[encoded data removed]",
      "text/plain": [
       "<Figure size 432x288 with 1 Axes>"
      ]
     },
     "metadata": {},
     "output_type": "display_data"
    },
    {
     "name": "stdout",
     "output_type": "stream",
     "text": [
      "Accuracy score = 0.9333333333333333\n"
     ]
    }
   ],
   "source": [
    "MLP = MLPClassifier(hidden_layer_sizes=(5, 5, 5), verbose=True, solver='lbfgs').fit(X_train, y_train)\n",
    "print(MLP.score(X_test, y_test), MLP.score(X_train, y_train))\n",
    "y_pred = MLP.predict(X_test)\n",
    "print(classification_report(y_test, y_pred))\n",
    "get_all_metrics(X_test, y_test, y_pred, MLP, F_data, T_data)"
   ]
  },
  {
   "cell_type": "markdown",
   "id": "40991b1d",
   "metadata": {},
   "source": [
    "## Apprentissage des chiffres manuscrits"
   ]
  },
  {
   "cell_type": "code",
   "execution_count": 11,
   "id": "a309a74d",
   "metadata": {},
   "outputs": [
    {
     "data": {
      "text/plain": [
       "['Ftr', 'Ttr', 'Ftst', 'Ttst']"
      ]
     },
     "execution_count": 11,
     "metadata": {},
     "output_type": "execute_result"
    }
   ],
   "source": [
    "MNIST = np.load('Lab3DATA/MNIST.npz')\n",
    "lst = MNIST.files\n",
    "lst"
   ]
  },
  {
   "cell_type": "code",
   "execution_count": 12,
   "id": "118fa333",
   "metadata": {},
   "outputs": [],
   "source": [
    "Ftr, Ttr, Ftst, Ttst = MNIST['Ftr'], MNIST['Ttr'], MNIST['Ftst'], MNIST['Ttst'] "
   ]
  },
  {
   "cell_type": "code",
   "execution_count": 13,
   "id": "a95b37b5",
   "metadata": {
    "scrolled": true
   },
   "outputs": [
    {
     "data": {
      "image/png": "[encoded data removed]",
      "text/plain": [
       "<Figure size 720x288 with 10 Axes>"
      ]
     },
     "metadata": {
      "needs_background": "light"
     },
     "output_type": "display_data"
    }
   ],
   "source": [
    "fig, axes = plt.subplots(2, 5, figsize=(10, 4))\n",
    "for i in range(2):\n",
    "    for j in range(5):\n",
    "        axes[i, j].imshow(Ftr[i*5 + j].reshape(28, 28))\n",
    "        axes[i, j].set_title(f'Label: {Ttr[i*5 + j]}')\n",
    "        axes[i, j].axis('off')\n",
    "plt.show()"
   ]
  },
  {
   "cell_type": "code",
   "execution_count": 14,
   "id": "b74c9749",
   "metadata": {
    "scrolled": false
   },
   "outputs": [
    {
     "data": {
      "text/plain": [
       "((60000, 28, 28), (10000, 28, 28))"
      ]
     },
     "execution_count": 14,
     "metadata": {},
     "output_type": "execute_result"
    }
   ],
   "source": [
    "Ftr.shape, Ftst.shape"
   ]
  },
  {
   "cell_type": "code",
   "execution_count": 15,
   "id": "7cdb92bb",
   "metadata": {
    "scrolled": true
   },
   "outputs": [
    {
     "data": {
      "text/plain": [
       "((60000, 784), (10000, 784))"
      ]
     },
     "execution_count": 15,
     "metadata": {},
     "output_type": "execute_result"
    }
   ],
   "source": [
    "Ftr_reshaped = Ftr.reshape(Ftr.shape[0], -1)\n",
    "Ftst_reshaped = Ftst.reshape(Ftst.shape[0], -1)\n",
    "Ftr_reshaped.shape, Ftst_reshaped.shape"
   ]
  },
  {
   "cell_type": "code",
   "execution_count": 16,
   "id": "4908cd66",
   "metadata": {
    "scrolled": true
   },
   "outputs": [
    {
     "name": "stdout",
     "output_type": "stream",
     "text": [
      "Iteration 1, loss = 3.61566499\n",
      "Iteration 2, loss = 0.91525820\n",
      "Iteration 3, loss = 0.66995047\n",
      "Iteration 4, loss = 0.55145627\n",
      "Iteration 5, loss = 0.47234615\n",
      "Iteration 6, loss = 0.41424503\n",
      "Iteration 7, loss = 0.36181880\n",
      "Iteration 8, loss = 0.32691336\n",
      "Iteration 9, loss = 0.29787872\n",
      "Iteration 10, loss = 0.27376127\n",
      "Iteration 11, loss = 0.25435391\n",
      "Iteration 12, loss = 0.23786468\n",
      "Iteration 13, loss = 0.21989968\n",
      "Iteration 14, loss = 0.20370355\n",
      "Iteration 15, loss = 0.20024103\n",
      "Iteration 16, loss = 0.19019015\n",
      "Iteration 17, loss = 0.18896032\n",
      "Iteration 18, loss = 0.17783606\n",
      "Iteration 19, loss = 0.17109620\n",
      "Iteration 20, loss = 0.16845951\n",
      "Iteration 21, loss = 0.15935951\n",
      "Iteration 22, loss = 0.15986352\n",
      "Iteration 23, loss = 0.15347293\n",
      "Iteration 24, loss = 0.15521525\n",
      "Iteration 25, loss = 0.14944889\n",
      "Iteration 26, loss = 0.14469167\n",
      "Iteration 27, loss = 0.14320200\n",
      "Iteration 28, loss = 0.13969001\n",
      "Iteration 29, loss = 0.13744471\n",
      "Iteration 30, loss = 0.13244663\n",
      "Iteration 31, loss = 0.13175290\n",
      "Iteration 32, loss = 0.12610961\n",
      "Iteration 33, loss = 0.12412053\n",
      "Iteration 34, loss = 0.12365773\n",
      "Iteration 35, loss = 0.12074021\n",
      "Iteration 36, loss = 0.11859234\n",
      "Iteration 37, loss = 0.11763420\n",
      "Iteration 38, loss = 0.11520937\n",
      "Iteration 39, loss = 0.11374966\n",
      "Iteration 40, loss = 0.11341168\n",
      "Iteration 41, loss = 0.10749310\n",
      "Iteration 42, loss = 0.11100441\n",
      "Iteration 43, loss = 0.10925358\n",
      "Iteration 44, loss = 0.10728356\n",
      "Iteration 45, loss = 0.10360961\n",
      "Iteration 46, loss = 0.10382462\n",
      "Iteration 47, loss = 0.10105236\n",
      "Iteration 48, loss = 0.10155017\n",
      "Iteration 49, loss = 0.10151621\n",
      "Iteration 50, loss = 0.09443239\n",
      "Iteration 51, loss = 0.09570520\n",
      "Iteration 52, loss = 0.09712582\n",
      "Iteration 53, loss = 0.09288026\n",
      "Iteration 54, loss = 0.09469243\n",
      "Iteration 55, loss = 0.09334306\n",
      "Iteration 56, loss = 0.09764206\n",
      "Iteration 57, loss = 0.09023166\n",
      "Iteration 58, loss = 0.09112480\n",
      "Iteration 59, loss = 0.08653527\n",
      "Iteration 60, loss = 0.08820436\n",
      "Iteration 61, loss = 0.08627852\n",
      "Iteration 62, loss = 0.08780372\n",
      "Iteration 63, loss = 0.08421404\n",
      "Iteration 64, loss = 0.08503512\n",
      "Iteration 65, loss = 0.08090285\n",
      "Iteration 66, loss = 0.08271093\n",
      "Iteration 67, loss = 0.08499372\n",
      "Iteration 68, loss = 0.08230809\n",
      "Iteration 69, loss = 0.08414923\n",
      "Iteration 70, loss = 0.08007388\n",
      "Iteration 71, loss = 0.07723556\n",
      "Iteration 72, loss = 0.07599562\n",
      "Iteration 73, loss = 0.08121833\n",
      "Iteration 74, loss = 0.07863858\n",
      "Iteration 75, loss = 0.07681008\n",
      "Iteration 76, loss = 0.07630305\n",
      "Iteration 77, loss = 0.07660199\n",
      "Iteration 78, loss = 0.07855602\n",
      "Iteration 79, loss = 0.07144756\n",
      "Iteration 80, loss = 0.07701150\n",
      "Iteration 81, loss = 0.07594464\n",
      "Iteration 82, loss = 0.07055061\n",
      "Iteration 83, loss = 0.07347776\n",
      "Iteration 84, loss = 0.07578395\n",
      "Iteration 85, loss = 0.07616715\n",
      "Iteration 86, loss = 0.06922562\n",
      "Iteration 87, loss = 0.07091957\n",
      "Iteration 88, loss = 0.07279234\n",
      "Iteration 89, loss = 0.06926645\n",
      "Iteration 90, loss = 0.06971966\n",
      "Iteration 91, loss = 0.06736685\n",
      "Iteration 92, loss = 0.06708012\n",
      "Iteration 93, loss = 0.06933795\n",
      "Iteration 94, loss = 0.07288481\n",
      "Iteration 95, loss = 0.07229188\n",
      "Iteration 96, loss = 0.06762626\n",
      "Iteration 97, loss = 0.06830823\n",
      "Iteration 98, loss = 0.06427881\n",
      "Iteration 99, loss = 0.06800552\n",
      "Iteration 100, loss = 0.06705455\n",
      "Iteration 101, loss = 0.06529965\n",
      "Iteration 102, loss = 0.06713834\n",
      "Iteration 103, loss = 0.07008615\n",
      "Iteration 104, loss = 0.07058594\n",
      "Iteration 105, loss = 0.06463173\n",
      "Iteration 106, loss = 0.05958613\n",
      "Iteration 107, loss = 0.06156099\n",
      "Iteration 108, loss = 0.06163669\n",
      "Iteration 109, loss = 0.06775204\n",
      "Iteration 110, loss = 0.06528179\n",
      "Iteration 111, loss = 0.06247545\n",
      "Iteration 112, loss = 0.06171780\n",
      "Iteration 113, loss = 0.06295055\n",
      "Iteration 114, loss = 0.06502985\n",
      "Iteration 115, loss = 0.06317202\n",
      "Iteration 116, loss = 0.06014701\n",
      "Iteration 117, loss = 0.06278167\n",
      "Training loss did not improve more than tol=0.000100 for 10 consecutive epochs. Stopping.\n",
      "0.9505 0.9827166666666667\n",
      "              precision    recall  f1-score   support\n",
      "\n",
      "           0       0.97      0.98      0.98       980\n",
      "           1       0.99      0.98      0.98      1135\n",
      "           2       0.94      0.95      0.95      1032\n",
      "           3       0.94      0.95      0.95      1010\n",
      "           4       0.96      0.94      0.95       982\n",
      "           5       0.94      0.94      0.94       892\n",
      "           6       0.96      0.95      0.96       958\n",
      "           7       0.93      0.97      0.95      1028\n",
      "           8       0.91      0.93      0.92       974\n",
      "           9       0.95      0.92      0.93      1009\n",
      "\n",
      "    accuracy                           0.95     10000\n",
      "   macro avg       0.95      0.95      0.95     10000\n",
      "weighted avg       0.95      0.95      0.95     10000\n",
      "\n"
     ]
    }
   ],
   "source": [
    "MLP = MLPClassifier(hidden_layer_sizes=(50,), verbose=True).fit(Ftr_reshaped, Ttr)\n",
    "print(MLP.score(Ftst_reshaped, Ttst), MLP.score(Ftr_reshaped, Ttr))\n",
    "y_pred = MLP.predict(Ftst_reshaped)\n",
    "print(classification_report(Ttst, y_pred))"
   ]
  },
  {
   "cell_type": "code",
   "execution_count": 17,
   "id": "9c32d9f3",
   "metadata": {
    "scrolled": true
   },
   "outputs": [
    {
     "name": "stdout",
     "output_type": "stream",
     "text": [
      "              precision    recall  f1-score   support\n",
      "\n",
      "           0       0.97      0.98      0.98       980\n",
      "           1       0.99      0.98      0.98      1135\n",
      "           2       0.94      0.95      0.95      1032\n",
      "           3       0.94      0.95      0.95      1010\n",
      "           4       0.96      0.94      0.95       982\n",
      "           5       0.94      0.94      0.94       892\n",
      "           6       0.96      0.95      0.96       958\n",
      "           7       0.93      0.97      0.95      1028\n",
      "           8       0.91      0.93      0.92       974\n",
      "           9       0.95      0.92      0.93      1009\n",
      "\n",
      "    accuracy                           0.95     10000\n",
      "   macro avg       0.95      0.95      0.95     10000\n",
      "weighted avg       0.95      0.95      0.95     10000\n",
      "\n"
     ]
    }
   ],
   "source": [
    "print(classification_report(Ttst, y_pred))"
   ]
  },
  {
   "cell_type": "code",
   "execution_count": 18,
   "id": "268eea40",
   "metadata": {},
   "outputs": [
    {
     "data": {
      "image/png": "[encoded data removed]",
      "text/plain": [
       "<Figure size 720x288 with 15 Axes>"
      ]
     },
     "metadata": {
      "needs_background": "light"
     },
     "output_type": "display_data"
    }
   ],
   "source": [
    "misclassified_indices = np.where(Ttst != y_pred)[0]\n",
    "misclassified_samples = misclassified_indices[:15]  # Prendre les 10 premiers\n",
    "\n",
    "# Afficher les exemples de mauvaises classifications\n",
    "fig, axes = plt.subplots(3, 5, figsize=(10, 4))\n",
    "for i, idx in enumerate(misclassified_samples):\n",
    "    ax = axes[i // 5, i % 5]\n",
    "    ax.imshow(Ftst[idx].reshape(28, 28))\n",
    "    ax.set_title(f'True: {Ttst[idx]}, Pred: {y_pred[idx]}')\n",
    "    ax.axis('off')\n",
    "\n",
    "plt.tight_layout()\n",
    "plt.show()"
   ]
  },
  {
   "cell_type": "markdown",
   "id": "7dec1e29",
   "metadata": {},
   "source": [
    "## Prédiction avec des réseaux de neurones profonds"
   ]
  },
  {
   "cell_type": "code",
   "execution_count": 19,
   "id": "efbf650e",
   "metadata": {
    "scrolled": true
   },
   "outputs": [
    {
     "name": "stderr",
     "output_type": "stream",
     "text": [
      "C:\\Users\\Vasily\\anaconda3\\lib\\site-packages\\torchvision\\models\\_utils.py:208: UserWarning: The parameter 'pretrained' is deprecated since 0.13 and may be removed in the future, please use 'weights' instead.\n",
      "  warnings.warn(\n",
      "C:\\Users\\Vasily\\anaconda3\\lib\\site-packages\\torchvision\\models\\_utils.py:223: UserWarning: Arguments other than a weight enum or `None` for 'weights' are deprecated since 0.13 and may be removed in the future. The current behavior is equivalent to passing `weights=None`.\n",
      "  warnings.warn(msg)\n"
     ]
    },
    {
     "data": {
      "text/plain": [
       "Inception3(\n",
       "  (Conv2d_1a_3x3): BasicConv2d(\n",
       "    (conv): Conv2d(3, 32, kernel_size=(3, 3), stride=(2, 2), bias=False)\n",
       "    (bn): BatchNorm2d(32, eps=0.001, momentum=0.1, affine=True, track_running_stats=True)\n",
       "  )\n",
       "  (Conv2d_2a_3x3): BasicConv2d(\n",
       "    (conv): Conv2d(32, 32, kernel_size=(3, 3), stride=(1, 1), bias=False)\n",
       "    (bn): BatchNorm2d(32, eps=0.001, momentum=0.1, affine=True, track_running_stats=True)\n",
       "  )\n",
       "  (Conv2d_2b_3x3): BasicConv2d(\n",
       "    (conv): Conv2d(32, 64, kernel_size=(3, 3), stride=(1, 1), padding=(1, 1), bias=False)\n",
       "    (bn): BatchNorm2d(64, eps=0.001, momentum=0.1, affine=True, track_running_stats=True)\n",
       "  )\n",
       "  (maxpool1): MaxPool2d(kernel_size=3, stride=2, padding=0, dilation=1, ceil_mode=False)\n",
       "  (Conv2d_3b_1x1): BasicConv2d(\n",
       "    (conv): Conv2d(64, 80, kernel_size=(1, 1), stride=(1, 1), bias=False)\n",
       "    (bn): BatchNorm2d(80, eps=0.001, momentum=0.1, affine=True, track_running_stats=True)\n",
       "  )\n",
       "  (Conv2d_4a_3x3): BasicConv2d(\n",
       "    (conv): Conv2d(80, 192, kernel_size=(3, 3), stride=(1, 1), bias=False)\n",
       "    (bn): BatchNorm2d(192, eps=0.001, momentum=0.1, affine=True, track_running_stats=True)\n",
       "  )\n",
       "  (maxpool2): MaxPool2d(kernel_size=3, stride=2, padding=0, dilation=1, ceil_mode=False)\n",
       "  (Mixed_5b): InceptionA(\n",
       "    (branch1x1): BasicConv2d(\n",
       "      (conv): Conv2d(192, 64, kernel_size=(1, 1), stride=(1, 1), bias=False)\n",
       "      (bn): BatchNorm2d(64, eps=0.001, momentum=0.1, affine=True, track_running_stats=True)\n",
       "    )\n",
       "    (branch5x5_1): BasicConv2d(\n",
       "      (conv): Conv2d(192, 48, kernel_size=(1, 1), stride=(1, 1), bias=False)\n",
       "      (bn): BatchNorm2d(48, eps=0.001, momentum=0.1, affine=True, track_running_stats=True)\n",
       "    )\n",
       "    (branch5x5_2): BasicConv2d(\n",
       "      (conv): Conv2d(48, 64, kernel_size=(5, 5), stride=(1, 1), padding=(2, 2), bias=False)\n",
       "      (bn): BatchNorm2d(64, eps=0.001, momentum=0.1, affine=True, track_running_stats=True)\n",
       "    )\n",
       "    (branch3x3dbl_1): BasicConv2d(\n",
       "      (conv): Conv2d(192, 64, kernel_size=(1, 1), stride=(1, 1), bias=False)\n",
       "      (bn): BatchNorm2d(64, eps=0.001, momentum=0.1, affine=True, track_running_stats=True)\n",
       "    )\n",
       "    (branch3x3dbl_2): BasicConv2d(\n",
       "      (conv): Conv2d(64, 96, kernel_size=(3, 3), stride=(1, 1), padding=(1, 1), bias=False)\n",
       "      (bn): BatchNorm2d(96, eps=0.001, momentum=0.1, affine=True, track_running_stats=True)\n",
       "    )\n",
       "    (branch3x3dbl_3): BasicConv2d(\n",
       "      (conv): Conv2d(96, 96, kernel_size=(3, 3), stride=(1, 1), padding=(1, 1), bias=False)\n",
       "      (bn): BatchNorm2d(96, eps=0.001, momentum=0.1, affine=True, track_running_stats=True)\n",
       "    )\n",
       "    (branch_pool): BasicConv2d(\n",
       "      (conv): Conv2d(192, 32, kernel_size=(1, 1), stride=(1, 1), bias=False)\n",
       "      (bn): BatchNorm2d(32, eps=0.001, momentum=0.1, affine=True, track_running_stats=True)\n",
       "    )\n",
       "  )\n",
       "  (Mixed_5c): InceptionA(\n",
       "    (branch1x1): BasicConv2d(\n",
       "      (conv): Conv2d(256, 64, kernel_size=(1, 1), stride=(1, 1), bias=False)\n",
       "      (bn): BatchNorm2d(64, eps=0.001, momentum=0.1, affine=True, track_running_stats=True)\n",
       "    )\n",
       "    (branch5x5_1): BasicConv2d(\n",
       "      (conv): Conv2d(256, 48, kernel_size=(1, 1), stride=(1, 1), bias=False)\n",
       "      (bn): BatchNorm2d(48, eps=0.001, momentum=0.1, affine=True, track_running_stats=True)\n",
       "    )\n",
       "    (branch5x5_2): BasicConv2d(\n",
       "      (conv): Conv2d(48, 64, kernel_size=(5, 5), stride=(1, 1), padding=(2, 2), bias=False)\n",
       "      (bn): BatchNorm2d(64, eps=0.001, momentum=0.1, affine=True, track_running_stats=True)\n",
       "    )\n",
       "    (branch3x3dbl_1): BasicConv2d(\n",
       "      (conv): Conv2d(256, 64, kernel_size=(1, 1), stride=(1, 1), bias=False)\n",
       "      (bn): BatchNorm2d(64, eps=0.001, momentum=0.1, affine=True, track_running_stats=True)\n",
       "    )\n",
       "    (branch3x3dbl_2): BasicConv2d(\n",
       "      (conv): Conv2d(64, 96, kernel_size=(3, 3), stride=(1, 1), padding=(1, 1), bias=False)\n",
       "      (bn): BatchNorm2d(96, eps=0.001, momentum=0.1, affine=True, track_running_stats=True)\n",
       "    )\n",
       "    (branch3x3dbl_3): BasicConv2d(\n",
       "      (conv): Conv2d(96, 96, kernel_size=(3, 3), stride=(1, 1), padding=(1, 1), bias=False)\n",
       "      (bn): BatchNorm2d(96, eps=0.001, momentum=0.1, affine=True, track_running_stats=True)\n",
       "    )\n",
       "    (branch_pool): BasicConv2d(\n",
       "      (conv): Conv2d(256, 64, kernel_size=(1, 1), stride=(1, 1), bias=False)\n",
       "      (bn): BatchNorm2d(64, eps=0.001, momentum=0.1, affine=True, track_running_stats=True)\n",
       "    )\n",
       "  )\n",
       "  (Mixed_5d): InceptionA(\n",
       "    (branch1x1): BasicConv2d(\n",
       "      (conv): Conv2d(288, 64, kernel_size=(1, 1), stride=(1, 1), bias=False)\n",
       "      (bn): BatchNorm2d(64, eps=0.001, momentum=0.1, affine=True, track_running_stats=True)\n",
       "    )\n",
       "    (branch5x5_1): BasicConv2d(\n",
       "      (conv): Conv2d(288, 48, kernel_size=(1, 1), stride=(1, 1), bias=False)\n",
       "      (bn): BatchNorm2d(48, eps=0.001, momentum=0.1, affine=True, track_running_stats=True)\n",
       "    )\n",
       "    (branch5x5_2): BasicConv2d(\n",
       "      (conv): Conv2d(48, 64, kernel_size=(5, 5), stride=(1, 1), padding=(2, 2), bias=False)\n",
       "      (bn): BatchNorm2d(64, eps=0.001, momentum=0.1, affine=True, track_running_stats=True)\n",
       "    )\n",
       "    (branch3x3dbl_1): BasicConv2d(\n",
       "      (conv): Conv2d(288, 64, kernel_size=(1, 1), stride=(1, 1), bias=False)\n",
       "      (bn): BatchNorm2d(64, eps=0.001, momentum=0.1, affine=True, track_running_stats=True)\n",
       "    )\n",
       "    (branch3x3dbl_2): BasicConv2d(\n",
       "      (conv): Conv2d(64, 96, kernel_size=(3, 3), stride=(1, 1), padding=(1, 1), bias=False)\n",
       "      (bn): BatchNorm2d(96, eps=0.001, momentum=0.1, affine=True, track_running_stats=True)\n",
       "    )\n",
       "    (branch3x3dbl_3): BasicConv2d(\n",
       "      (conv): Conv2d(96, 96, kernel_size=(3, 3), stride=(1, 1), padding=(1, 1), bias=False)\n",
       "      (bn): BatchNorm2d(96, eps=0.001, momentum=0.1, affine=True, track_running_stats=True)\n",
       "    )\n",
       "    (branch_pool): BasicConv2d(\n",
       "      (conv): Conv2d(288, 64, kernel_size=(1, 1), stride=(1, 1), bias=False)\n",
       "      (bn): BatchNorm2d(64, eps=0.001, momentum=0.1, affine=True, track_running_stats=True)\n",
       "    )\n",
       "  )\n",
       "  (Mixed_6a): InceptionB(\n",
       "    (branch3x3): BasicConv2d(\n",
       "      (conv): Conv2d(288, 384, kernel_size=(3, 3), stride=(2, 2), bias=False)\n",
       "      (bn): BatchNorm2d(384, eps=0.001, momentum=0.1, affine=True, track_running_stats=True)\n",
       "    )\n",
       "    (branch3x3dbl_1): BasicConv2d(\n",
       "      (conv): Conv2d(288, 64, kernel_size=(1, 1), stride=(1, 1), bias=False)\n",
       "      (bn): BatchNorm2d(64, eps=0.001, momentum=0.1, affine=True, track_running_stats=True)\n",
       "    )\n",
       "    (branch3x3dbl_2): BasicConv2d(\n",
       "      (conv): Conv2d(64, 96, kernel_size=(3, 3), stride=(1, 1), padding=(1, 1), bias=False)\n",
       "      (bn): BatchNorm2d(96, eps=0.001, momentum=0.1, affine=True, track_running_stats=True)\n",
       "    )\n",
       "    (branch3x3dbl_3): BasicConv2d(\n",
       "      (conv): Conv2d(96, 96, kernel_size=(3, 3), stride=(2, 2), bias=False)\n",
       "      (bn): BatchNorm2d(96, eps=0.001, momentum=0.1, affine=True, track_running_stats=True)\n",
       "    )\n",
       "  )\n",
       "  (Mixed_6b): InceptionC(\n",
       "    (branch1x1): BasicConv2d(\n",
       "      (conv): Conv2d(768, 192, kernel_size=(1, 1), stride=(1, 1), bias=False)\n",
       "      (bn): BatchNorm2d(192, eps=0.001, momentum=0.1, affine=True, track_running_stats=True)\n",
       "    )\n",
       "    (branch7x7_1): BasicConv2d(\n",
       "      (conv): Conv2d(768, 128, kernel_size=(1, 1), stride=(1, 1), bias=False)\n",
       "      (bn): BatchNorm2d(128, eps=0.001, momentum=0.1, affine=True, track_running_stats=True)\n",
       "    )\n",
       "    (branch7x7_2): BasicConv2d(\n",
       "      (conv): Conv2d(128, 128, kernel_size=(1, 7), stride=(1, 1), padding=(0, 3), bias=False)\n",
       "      (bn): BatchNorm2d(128, eps=0.001, momentum=0.1, affine=True, track_running_stats=True)\n",
       "    )\n",
       "    (branch7x7_3): BasicConv2d(\n",
       "      (conv): Conv2d(128, 192, kernel_size=(7, 1), stride=(1, 1), padding=(3, 0), bias=False)\n",
       "      (bn): BatchNorm2d(192, eps=0.001, momentum=0.1, affine=True, track_running_stats=True)\n",
       "    )\n",
       "    (branch7x7dbl_1): BasicConv2d(\n",
       "      (conv): Conv2d(768, 128, kernel_size=(1, 1), stride=(1, 1), bias=False)\n",
       "      (bn): BatchNorm2d(128, eps=0.001, momentum=0.1, affine=True, track_running_stats=True)\n",
       "    )\n",
       "    (branch7x7dbl_2): BasicConv2d(\n",
       "      (conv): Conv2d(128, 128, kernel_size=(7, 1), stride=(1, 1), padding=(3, 0), bias=False)\n",
       "      (bn): BatchNorm2d(128, eps=0.001, momentum=0.1, affine=True, track_running_stats=True)\n",
       "    )\n",
       "    (branch7x7dbl_3): BasicConv2d(\n",
       "      (conv): Conv2d(128, 128, kernel_size=(1, 7), stride=(1, 1), padding=(0, 3), bias=False)\n",
       "      (bn): BatchNorm2d(128, eps=0.001, momentum=0.1, affine=True, track_running_stats=True)\n",
       "    )\n",
       "    (branch7x7dbl_4): BasicConv2d(\n",
       "      (conv): Conv2d(128, 128, kernel_size=(7, 1), stride=(1, 1), padding=(3, 0), bias=False)\n",
       "      (bn): BatchNorm2d(128, eps=0.001, momentum=0.1, affine=True, track_running_stats=True)\n",
       "    )\n",
       "    (branch7x7dbl_5): BasicConv2d(\n",
       "      (conv): Conv2d(128, 192, kernel_size=(1, 7), stride=(1, 1), padding=(0, 3), bias=False)\n",
       "      (bn): BatchNorm2d(192, eps=0.001, momentum=0.1, affine=True, track_running_stats=True)\n",
       "    )\n",
       "    (branch_pool): BasicConv2d(\n",
       "      (conv): Conv2d(768, 192, kernel_size=(1, 1), stride=(1, 1), bias=False)\n",
       "      (bn): BatchNorm2d(192, eps=0.001, momentum=0.1, affine=True, track_running_stats=True)\n",
       "    )\n",
       "  )\n",
       "  (Mixed_6c): InceptionC(\n",
       "    (branch1x1): BasicConv2d(\n",
       "      (conv): Conv2d(768, 192, kernel_size=(1, 1), stride=(1, 1), bias=False)\n",
       "      (bn): BatchNorm2d(192, eps=0.001, momentum=0.1, affine=True, track_running_stats=True)\n",
       "    )\n",
       "    (branch7x7_1): BasicConv2d(\n",
       "      (conv): Conv2d(768, 160, kernel_size=(1, 1), stride=(1, 1), bias=False)\n",
       "      (bn): BatchNorm2d(160, eps=0.001, momentum=0.1, affine=True, track_running_stats=True)\n",
       "    )\n",
       "    (branch7x7_2): BasicConv2d(\n",
       "      (conv): Conv2d(160, 160, kernel_size=(1, 7), stride=(1, 1), padding=(0, 3), bias=False)\n",
       "      (bn): BatchNorm2d(160, eps=0.001, momentum=0.1, affine=True, track_running_stats=True)\n",
       "    )\n",
       "    (branch7x7_3): BasicConv2d(\n",
       "      (conv): Conv2d(160, 192, kernel_size=(7, 1), stride=(1, 1), padding=(3, 0), bias=False)\n",
       "      (bn): BatchNorm2d(192, eps=0.001, momentum=0.1, affine=True, track_running_stats=True)\n",
       "    )\n",
       "    (branch7x7dbl_1): BasicConv2d(\n",
       "      (conv): Conv2d(768, 160, kernel_size=(1, 1), stride=(1, 1), bias=False)\n",
       "      (bn): BatchNorm2d(160, eps=0.001, momentum=0.1, affine=True, track_running_stats=True)\n",
       "    )\n",
       "    (branch7x7dbl_2): BasicConv2d(\n",
       "      (conv): Conv2d(160, 160, kernel_size=(7, 1), stride=(1, 1), padding=(3, 0), bias=False)\n",
       "      (bn): BatchNorm2d(160, eps=0.001, momentum=0.1, affine=True, track_running_stats=True)\n",
       "    )\n",
       "    (branch7x7dbl_3): BasicConv2d(\n",
       "      (conv): Conv2d(160, 160, kernel_size=(1, 7), stride=(1, 1), padding=(0, 3), bias=False)\n",
       "      (bn): BatchNorm2d(160, eps=0.001, momentum=0.1, affine=True, track_running_stats=True)\n",
       "    )\n",
       "    (branch7x7dbl_4): BasicConv2d(\n",
       "      (conv): Conv2d(160, 160, kernel_size=(7, 1), stride=(1, 1), padding=(3, 0), bias=False)\n",
       "      (bn): BatchNorm2d(160, eps=0.001, momentum=0.1, affine=True, track_running_stats=True)\n",
       "    )\n",
       "    (branch7x7dbl_5): BasicConv2d(\n",
       "      (conv): Conv2d(160, 192, kernel_size=(1, 7), stride=(1, 1), padding=(0, 3), bias=False)\n",
       "      (bn): BatchNorm2d(192, eps=0.001, momentum=0.1, affine=True, track_running_stats=True)\n",
       "    )\n",
       "    (branch_pool): BasicConv2d(\n",
       "      (conv): Conv2d(768, 192, kernel_size=(1, 1), stride=(1, 1), bias=False)\n",
       "      (bn): BatchNorm2d(192, eps=0.001, momentum=0.1, affine=True, track_running_stats=True)\n",
       "    )\n",
       "  )\n",
       "  (Mixed_6d): InceptionC(\n",
       "    (branch1x1): BasicConv2d(\n",
       "      (conv): Conv2d(768, 192, kernel_size=(1, 1), stride=(1, 1), bias=False)\n",
       "      (bn): BatchNorm2d(192, eps=0.001, momentum=0.1, affine=True, track_running_stats=True)\n",
       "    )\n",
       "    (branch7x7_1): BasicConv2d(\n",
       "      (conv): Conv2d(768, 160, kernel_size=(1, 1), stride=(1, 1), bias=False)\n",
       "      (bn): BatchNorm2d(160, eps=0.001, momentum=0.1, affine=True, track_running_stats=True)\n",
       "    )\n",
       "    (branch7x7_2): BasicConv2d(\n",
       "      (conv): Conv2d(160, 160, kernel_size=(1, 7), stride=(1, 1), padding=(0, 3), bias=False)\n",
       "      (bn): BatchNorm2d(160, eps=0.001, momentum=0.1, affine=True, track_running_stats=True)\n",
       "    )\n",
       "    (branch7x7_3): BasicConv2d(\n",
       "      (conv): Conv2d(160, 192, kernel_size=(7, 1), stride=(1, 1), padding=(3, 0), bias=False)\n",
       "      (bn): BatchNorm2d(192, eps=0.001, momentum=0.1, affine=True, track_running_stats=True)\n",
       "    )\n",
       "    (branch7x7dbl_1): BasicConv2d(\n",
       "      (conv): Conv2d(768, 160, kernel_size=(1, 1), stride=(1, 1), bias=False)\n",
       "      (bn): BatchNorm2d(160, eps=0.001, momentum=0.1, affine=True, track_running_stats=True)\n",
       "    )\n",
       "    (branch7x7dbl_2): BasicConv2d(\n",
       "      (conv): Conv2d(160, 160, kernel_size=(7, 1), stride=(1, 1), padding=(3, 0), bias=False)\n",
       "      (bn): BatchNorm2d(160, eps=0.001, momentum=0.1, affine=True, track_running_stats=True)\n",
       "    )\n",
       "    (branch7x7dbl_3): BasicConv2d(\n",
       "      (conv): Conv2d(160, 160, kernel_size=(1, 7), stride=(1, 1), padding=(0, 3), bias=False)\n",
       "      (bn): BatchNorm2d(160, eps=0.001, momentum=0.1, affine=True, track_running_stats=True)\n",
       "    )\n",
       "    (branch7x7dbl_4): BasicConv2d(\n",
       "      (conv): Conv2d(160, 160, kernel_size=(7, 1), stride=(1, 1), padding=(3, 0), bias=False)\n",
       "      (bn): BatchNorm2d(160, eps=0.001, momentum=0.1, affine=True, track_running_stats=True)\n",
       "    )\n",
       "    (branch7x7dbl_5): BasicConv2d(\n",
       "      (conv): Conv2d(160, 192, kernel_size=(1, 7), stride=(1, 1), padding=(0, 3), bias=False)\n",
       "      (bn): BatchNorm2d(192, eps=0.001, momentum=0.1, affine=True, track_running_stats=True)\n",
       "    )\n",
       "    (branch_pool): BasicConv2d(\n",
       "      (conv): Conv2d(768, 192, kernel_size=(1, 1), stride=(1, 1), bias=False)\n",
       "      (bn): BatchNorm2d(192, eps=0.001, momentum=0.1, affine=True, track_running_stats=True)\n",
       "    )\n",
       "  )\n",
       "  (Mixed_6e): InceptionC(\n",
       "    (branch1x1): BasicConv2d(\n",
       "      (conv): Conv2d(768, 192, kernel_size=(1, 1), stride=(1, 1), bias=False)\n",
       "      (bn): BatchNorm2d(192, eps=0.001, momentum=0.1, affine=True, track_running_stats=True)\n",
       "    )\n",
       "    (branch7x7_1): BasicConv2d(\n",
       "      (conv): Conv2d(768, 192, kernel_size=(1, 1), stride=(1, 1), bias=False)\n",
       "      (bn): BatchNorm2d(192, eps=0.001, momentum=0.1, affine=True, track_running_stats=True)\n",
       "    )\n",
       "    (branch7x7_2): BasicConv2d(\n",
       "      (conv): Conv2d(192, 192, kernel_size=(1, 7), stride=(1, 1), padding=(0, 3), bias=False)\n",
       "      (bn): BatchNorm2d(192, eps=0.001, momentum=0.1, affine=True, track_running_stats=True)\n",
       "    )\n",
       "    (branch7x7_3): BasicConv2d(\n",
       "      (conv): Conv2d(192, 192, kernel_size=(7, 1), stride=(1, 1), padding=(3, 0), bias=False)\n",
       "      (bn): BatchNorm2d(192, eps=0.001, momentum=0.1, affine=True, track_running_stats=True)\n",
       "    )\n",
       "    (branch7x7dbl_1): BasicConv2d(\n",
       "      (conv): Conv2d(768, 192, kernel_size=(1, 1), stride=(1, 1), bias=False)\n",
       "      (bn): BatchNorm2d(192, eps=0.001, momentum=0.1, affine=True, track_running_stats=True)\n",
       "    )\n",
       "    (branch7x7dbl_2): BasicConv2d(\n",
       "      (conv): Conv2d(192, 192, kernel_size=(7, 1), stride=(1, 1), padding=(3, 0), bias=False)\n",
       "      (bn): BatchNorm2d(192, eps=0.001, momentum=0.1, affine=True, track_running_stats=True)\n",
       "    )\n",
       "    (branch7x7dbl_3): BasicConv2d(\n",
       "      (conv): Conv2d(192, 192, kernel_size=(1, 7), stride=(1, 1), padding=(0, 3), bias=False)\n",
       "      (bn): BatchNorm2d(192, eps=0.001, momentum=0.1, affine=True, track_running_stats=True)\n",
       "    )\n",
       "    (branch7x7dbl_4): BasicConv2d(\n",
       "      (conv): Conv2d(192, 192, kernel_size=(7, 1), stride=(1, 1), padding=(3, 0), bias=False)\n",
       "      (bn): BatchNorm2d(192, eps=0.001, momentum=0.1, affine=True, track_running_stats=True)\n",
       "    )\n",
       "    (branch7x7dbl_5): BasicConv2d(\n",
       "      (conv): Conv2d(192, 192, kernel_size=(1, 7), stride=(1, 1), padding=(0, 3), bias=False)\n",
       "      (bn): BatchNorm2d(192, eps=0.001, momentum=0.1, affine=True, track_running_stats=True)\n",
       "    )\n",
       "    (branch_pool): BasicConv2d(\n",
       "      (conv): Conv2d(768, 192, kernel_size=(1, 1), stride=(1, 1), bias=False)\n",
       "      (bn): BatchNorm2d(192, eps=0.001, momentum=0.1, affine=True, track_running_stats=True)\n",
       "    )\n",
       "  )\n",
       "  (AuxLogits): InceptionAux(\n",
       "    (conv0): BasicConv2d(\n",
       "      (conv): Conv2d(768, 128, kernel_size=(1, 1), stride=(1, 1), bias=False)\n",
       "      (bn): BatchNorm2d(128, eps=0.001, momentum=0.1, affine=True, track_running_stats=True)\n",
       "    )\n",
       "    (conv1): BasicConv2d(\n",
       "      (conv): Conv2d(128, 768, kernel_size=(5, 5), stride=(1, 1), bias=False)\n",
       "      (bn): BatchNorm2d(768, eps=0.001, momentum=0.1, affine=True, track_running_stats=True)\n",
       "    )\n",
       "    (fc): Linear(in_features=768, out_features=1000, bias=True)\n",
       "  )\n",
       "  (Mixed_7a): InceptionD(\n",
       "    (branch3x3_1): BasicConv2d(\n",
       "      (conv): Conv2d(768, 192, kernel_size=(1, 1), stride=(1, 1), bias=False)\n",
       "      (bn): BatchNorm2d(192, eps=0.001, momentum=0.1, affine=True, track_running_stats=True)\n",
       "    )\n",
       "    (branch3x3_2): BasicConv2d(\n",
       "      (conv): Conv2d(192, 320, kernel_size=(3, 3), stride=(2, 2), bias=False)\n",
       "      (bn): BatchNorm2d(320, eps=0.001, momentum=0.1, affine=True, track_running_stats=True)\n",
       "    )\n",
       "    (branch7x7x3_1): BasicConv2d(\n",
       "      (conv): Conv2d(768, 192, kernel_size=(1, 1), stride=(1, 1), bias=False)\n",
       "      (bn): BatchNorm2d(192, eps=0.001, momentum=0.1, affine=True, track_running_stats=True)\n",
       "    )\n",
       "    (branch7x7x3_2): BasicConv2d(\n",
       "      (conv): Conv2d(192, 192, kernel_size=(1, 7), stride=(1, 1), padding=(0, 3), bias=False)\n",
       "      (bn): BatchNorm2d(192, eps=0.001, momentum=0.1, affine=True, track_running_stats=True)\n",
       "    )\n",
       "    (branch7x7x3_3): BasicConv2d(\n",
       "      (conv): Conv2d(192, 192, kernel_size=(7, 1), stride=(1, 1), padding=(3, 0), bias=False)\n",
       "      (bn): BatchNorm2d(192, eps=0.001, momentum=0.1, affine=True, track_running_stats=True)\n",
       "    )\n",
       "    (branch7x7x3_4): BasicConv2d(\n",
       "      (conv): Conv2d(192, 192, kernel_size=(3, 3), stride=(2, 2), bias=False)\n",
       "      (bn): BatchNorm2d(192, eps=0.001, momentum=0.1, affine=True, track_running_stats=True)\n",
       "    )\n",
       "  )\n",
       "  (Mixed_7b): InceptionE(\n",
       "    (branch1x1): BasicConv2d(\n",
       "      (conv): Conv2d(1280, 320, kernel_size=(1, 1), stride=(1, 1), bias=False)\n",
       "      (bn): BatchNorm2d(320, eps=0.001, momentum=0.1, affine=True, track_running_stats=True)\n",
       "    )\n",
       "    (branch3x3_1): BasicConv2d(\n",
       "      (conv): Conv2d(1280, 384, kernel_size=(1, 1), stride=(1, 1), bias=False)\n",
       "      (bn): BatchNorm2d(384, eps=0.001, momentum=0.1, affine=True, track_running_stats=True)\n",
       "    )\n",
       "    (branch3x3_2a): BasicConv2d(\n",
       "      (conv): Conv2d(384, 384, kernel_size=(1, 3), stride=(1, 1), padding=(0, 1), bias=False)\n",
       "      (bn): BatchNorm2d(384, eps=0.001, momentum=0.1, affine=True, track_running_stats=True)\n",
       "    )\n",
       "    (branch3x3_2b): BasicConv2d(\n",
       "      (conv): Conv2d(384, 384, kernel_size=(3, 1), stride=(1, 1), padding=(1, 0), bias=False)\n",
       "      (bn): BatchNorm2d(384, eps=0.001, momentum=0.1, affine=True, track_running_stats=True)\n",
       "    )\n",
       "    (branch3x3dbl_1): BasicConv2d(\n",
       "      (conv): Conv2d(1280, 448, kernel_size=(1, 1), stride=(1, 1), bias=False)\n",
       "      (bn): BatchNorm2d(448, eps=0.001, momentum=0.1, affine=True, track_running_stats=True)\n",
       "    )\n",
       "    (branch3x3dbl_2): BasicConv2d(\n",
       "      (conv): Conv2d(448, 384, kernel_size=(3, 3), stride=(1, 1), padding=(1, 1), bias=False)\n",
       "      (bn): BatchNorm2d(384, eps=0.001, momentum=0.1, affine=True, track_running_stats=True)\n",
       "    )\n",
       "    (branch3x3dbl_3a): BasicConv2d(\n",
       "      (conv): Conv2d(384, 384, kernel_size=(1, 3), stride=(1, 1), padding=(0, 1), bias=False)\n",
       "      (bn): BatchNorm2d(384, eps=0.001, momentum=0.1, affine=True, track_running_stats=True)\n",
       "    )\n",
       "    (branch3x3dbl_3b): BasicConv2d(\n",
       "      (conv): Conv2d(384, 384, kernel_size=(3, 1), stride=(1, 1), padding=(1, 0), bias=False)\n",
       "      (bn): BatchNorm2d(384, eps=0.001, momentum=0.1, affine=True, track_running_stats=True)\n",
       "    )\n",
       "    (branch_pool): BasicConv2d(\n",
       "      (conv): Conv2d(1280, 192, kernel_size=(1, 1), stride=(1, 1), bias=False)\n",
       "      (bn): BatchNorm2d(192, eps=0.001, momentum=0.1, affine=True, track_running_stats=True)\n",
       "    )\n",
       "  )\n",
       "  (Mixed_7c): InceptionE(\n",
       "    (branch1x1): BasicConv2d(\n",
       "      (conv): Conv2d(2048, 320, kernel_size=(1, 1), stride=(1, 1), bias=False)\n",
       "      (bn): BatchNorm2d(320, eps=0.001, momentum=0.1, affine=True, track_running_stats=True)\n",
       "    )\n",
       "    (branch3x3_1): BasicConv2d(\n",
       "      (conv): Conv2d(2048, 384, kernel_size=(1, 1), stride=(1, 1), bias=False)\n",
       "      (bn): BatchNorm2d(384, eps=0.001, momentum=0.1, affine=True, track_running_stats=True)\n",
       "    )\n",
       "    (branch3x3_2a): BasicConv2d(\n",
       "      (conv): Conv2d(384, 384, kernel_size=(1, 3), stride=(1, 1), padding=(0, 1), bias=False)\n",
       "      (bn): BatchNorm2d(384, eps=0.001, momentum=0.1, affine=True, track_running_stats=True)\n",
       "    )\n",
       "    (branch3x3_2b): BasicConv2d(\n",
       "      (conv): Conv2d(384, 384, kernel_size=(3, 1), stride=(1, 1), padding=(1, 0), bias=False)\n",
       "      (bn): BatchNorm2d(384, eps=0.001, momentum=0.1, affine=True, track_running_stats=True)\n",
       "    )\n",
       "    (branch3x3dbl_1): BasicConv2d(\n",
       "      (conv): Conv2d(2048, 448, kernel_size=(1, 1), stride=(1, 1), bias=False)\n",
       "      (bn): BatchNorm2d(448, eps=0.001, momentum=0.1, affine=True, track_running_stats=True)\n",
       "    )\n",
       "    (branch3x3dbl_2): BasicConv2d(\n",
       "      (conv): Conv2d(448, 384, kernel_size=(3, 3), stride=(1, 1), padding=(1, 1), bias=False)\n",
       "      (bn): BatchNorm2d(384, eps=0.001, momentum=0.1, affine=True, track_running_stats=True)\n",
       "    )\n",
       "    (branch3x3dbl_3a): BasicConv2d(\n",
       "      (conv): Conv2d(384, 384, kernel_size=(1, 3), stride=(1, 1), padding=(0, 1), bias=False)\n",
       "      (bn): BatchNorm2d(384, eps=0.001, momentum=0.1, affine=True, track_running_stats=True)\n",
       "    )\n",
       "    (branch3x3dbl_3b): BasicConv2d(\n",
       "      (conv): Conv2d(384, 384, kernel_size=(3, 1), stride=(1, 1), padding=(1, 0), bias=False)\n",
       "      (bn): BatchNorm2d(384, eps=0.001, momentum=0.1, affine=True, track_running_stats=True)\n",
       "    )\n",
       "    (branch_pool): BasicConv2d(\n",
       "      (conv): Conv2d(2048, 192, kernel_size=(1, 1), stride=(1, 1), bias=False)\n",
       "      (bn): BatchNorm2d(192, eps=0.001, momentum=0.1, affine=True, track_running_stats=True)\n",
       "    )\n",
       "  )\n",
       "  (avgpool): AdaptiveAvgPool2d(output_size=(1, 1))\n",
       "  (dropout): Dropout(p=0.5, inplace=False)\n",
       "  (fc): Linear(in_features=2048, out_features=1000, bias=True)\n",
       ")"
      ]
     },
     "execution_count": 19,
     "metadata": {},
     "output_type": "execute_result"
    }
   ],
   "source": [
    "Icnn = torchvision.models.inception_v3(pretrained=False,init_weights=False)\n",
    "Icnn.AuxLogits.fc = torch.nn.Linear(768, 1000)\n",
    "Icnn.fc = torch.nn.Linear(2048, 1000)\n",
    "Icnn.load_state_dict(torch.load('Lab3DATA/inception_v3_google-1a9a5a14.pth', map_location='cpu'))\n",
    "Icnn.eval()\n",
    "Icnn"
   ]
  },
  {
   "cell_type": "code",
   "execution_count": 20,
   "id": "a86f4a7f",
   "metadata": {},
   "outputs": [
    {
     "data": {
      "text/html": [
       "<div>\n",
       "<style scoped>\n",
       "    .dataframe tbody tr th:only-of-type {\n",
       "        vertical-align: middle;\n",
       "    }\n",
       "\n",
       "    .dataframe tbody tr th {\n",
       "        vertical-align: top;\n",
       "    }\n",
       "\n",
       "    .dataframe thead th {\n",
       "        text-align: right;\n",
       "    }\n",
       "</style>\n",
       "<table border=\"1\" class=\"dataframe\">\n",
       "  <thead>\n",
       "    <tr style=\"text-align: right;\">\n",
       "      <th></th>\n",
       "      <th>index</th>\n",
       "      <th>class</th>\n",
       "    </tr>\n",
       "  </thead>\n",
       "  <tbody>\n",
       "    <tr>\n",
       "      <th>0</th>\n",
       "      <td>0</td>\n",
       "      <td>tench</td>\n",
       "    </tr>\n",
       "    <tr>\n",
       "      <th>1</th>\n",
       "      <td>1</td>\n",
       "      <td>goldfish</td>\n",
       "    </tr>\n",
       "    <tr>\n",
       "      <th>2</th>\n",
       "      <td>2</td>\n",
       "      <td>great_white_shark</td>\n",
       "    </tr>\n",
       "    <tr>\n",
       "      <th>3</th>\n",
       "      <td>3</td>\n",
       "      <td>tiger_shark</td>\n",
       "    </tr>\n",
       "    <tr>\n",
       "      <th>4</th>\n",
       "      <td>4</td>\n",
       "      <td>hammerhead</td>\n",
       "    </tr>\n",
       "  </tbody>\n",
       "</table>\n",
       "</div>"
      ],
      "text/plain": [
       "   index               class\n",
       "0      0               tench\n",
       "1      1            goldfish\n",
       "2      2   great_white_shark\n",
       "3      3         tiger_shark\n",
       "4      4          hammerhead"
      ]
     },
     "execution_count": 20,
     "metadata": {},
     "output_type": "execute_result"
    }
   ],
   "source": [
    "classes = pd.read_csv('Lab3DATA/imagenet_classes.txt')\n",
    "classes.head()"
   ]
  },
  {
   "cell_type": "code",
   "execution_count": 21,
   "id": "38dd1870",
   "metadata": {},
   "outputs": [
    {
     "name": "stdout",
     "output_type": "stream",
     "text": [
      "Elapsed time on CPU: 0.1324632167816162\n",
      "     index        class\n",
      "719    719   piggy_bank\n",
      "0.9992932081222534\n"
     ]
    }
   ],
   "source": [
    "image_path = 'Lab3DATA/piggy_bank.jpg'\n",
    "image = Image.open(image_path)\n",
    "image.show()\n",
    "\n",
    "transform = transforms.Compose([\n",
    "    transforms.Resize(299),\n",
    "    transforms.CenterCrop(299),\n",
    "    transforms.ToTensor(),\n",
    "    transforms.Normalize(mean=[0.485, 0.456, 0.406], std=[0.229, 0.224, 0.225]),\n",
    "])\n",
    "transformed_image = transform(image)\n",
    "\n",
    "start = time.time()\n",
    "output = Icnn(transformed_image.unsqueeze(0))\n",
    "_, predicted_class = torch.max(output, 1)\n",
    "end = time.time()\n",
    "\n",
    "print(f'Elapsed time on CPU: {end - start}')\n",
    "\n",
    "print(classes.iloc[predicted_class])\n",
    "\n",
    "probabilities = torch.nn.functional.softmax(output, dim=1)\n",
    "probability = torch.max(probabilities).item()\n",
    "print(probability)"
   ]
  },
  {
   "cell_type": "code",
   "execution_count": 22,
   "id": "30513dfc",
   "metadata": {},
   "outputs": [
    {
     "name": "stderr",
     "output_type": "stream",
     "text": [
      "C:\\Users\\Vasily\\anaconda3\\lib\\site-packages\\torchvision\\models\\_utils.py:208: UserWarning: The parameter 'pretrained' is deprecated since 0.13 and may be removed in the future, please use 'weights' instead.\n",
      "  warnings.warn(\n",
      "C:\\Users\\Vasily\\anaconda3\\lib\\site-packages\\torchvision\\models\\_utils.py:223: UserWarning: Arguments other than a weight enum or `None` for 'weights' are deprecated since 0.13 and may be removed in the future. The current behavior is equivalent to passing `weights=None`.\n",
      "  warnings.warn(msg)\n"
     ]
    },
    {
     "name": "stdout",
     "output_type": "stream",
     "text": [
      "device = cuda\n",
      "Elapsed time on cuda: 1.2193048000335693\n",
      "0.9992890357971191\n"
     ]
    }
   ],
   "source": [
    "Icnn = torchvision.models.inception_v3(pretrained=False, init_weights=False)\n",
    "Icnn.AuxLogits.fc = torch.nn.Linear(768, 1000)\n",
    "Icnn.fc = torch.nn.Linear(2048, 1000)\n",
    "Icnn.load_state_dict(torch.load('Lab3DATA/inception_v3_google-1a9a5a14.pth', map_location='cpu'))\n",
    "Icnn.eval()\n",
    "\n",
    "# Transformer l'image\n",
    "image_path = 'Lab3DATA/piggy_bank.jpg'\n",
    "image = Image.open(image_path)\n",
    "transform = transforms.Compose([\n",
    "    transforms.Resize(299),\n",
    "    transforms.CenterCrop(299),\n",
    "    transforms.ToTensor(),\n",
    "    transforms.Normalize(mean=[0.485, 0.456, 0.406], std=[0.229, 0.224, 0.225]),\n",
    "])\n",
    "transformed_image = transform(image)\n",
    "\n",
    "# Vérifier si le GPU est disponible\n",
    "device = torch.device(\"cuda\" if torch.cuda.is_available() else \"cpu\")\n",
    "print('device =', device)\n",
    "\n",
    "# Transférer le modèle et l'image sur le GPU (si disponible)\n",
    "Icnn = Icnn.to(device)\n",
    "transformed_image = transformed_image.to(device).unsqueeze(0)\n",
    "\n",
    "# Prédiction et mesure du temps sur le GPU ou le CPU\n",
    "start = time.time()\n",
    "output = Icnn(transformed_image)\n",
    "_, predicted_class = torch.max(output, 1)\n",
    "end = time.time()\n",
    "\n",
    "print(f'Elapsed time on {device}: {end - start}')\n",
    "\n",
    "# Probabilité de la classe prédite\n",
    "probabilities = torch.nn.functional.softmax(output, dim=1)\n",
    "probability = torch.max(probabilities).item()\n",
    "print(probability)"
   ]
  },
  {
   "cell_type": "code",
   "execution_count": 23,
   "id": "036a99bf",
   "metadata": {},
   "outputs": [
    {
     "name": "stdout",
     "output_type": "stream",
     "text": [
      "cuda used\n"
     ]
    }
   ],
   "source": [
    "# Charger le modèle Inception_v3\n",
    "Icnn = torchvision.models.inception_v3(pretrained=False, init_weights=False)\n",
    "Icnn.AuxLogits.fc = torch.nn.Linear(768, 1000)\n",
    "Icnn.fc = torch.nn.Linear(2048, 1000)\n",
    "Icnn.load_state_dict(torch.load('Lab3DATA/inception_v3_google-1a9a5a14.pth', map_location='cpu'))\n",
    "Icnn.eval()\n",
    "\n",
    "# Vérifier si un GPU est disponible et transférer le modèle\n",
    "if torch.cuda.is_available():\n",
    "    Icnn.cuda()\n",
    "\n",
    "# Transformer pour adapter l'image à l'entrée du modèle Inception\n",
    "transform = transforms.Compose([\n",
    "    transforms.Resize(299),\n",
    "    transforms.CenterCrop(299),\n",
    "    transforms.ToTensor(),\n",
    "    transforms.Normalize(mean=[0.485, 0.456, 0.406], std=[0.229, 0.224, 0.225]),\n",
    "])\n",
    "\n",
    "# Initialiser la capture vidéo\n",
    "cap = cv2.VideoCapture(0)\n",
    "cuda_count = 0\n",
    "while True:\n",
    "    # Capture frame par frame\n",
    "    ret, frame = cap.read()\n",
    "    if not ret:\n",
    "        break\n",
    "\n",
    "    # Convertir l'image pour qu'elle soit compatible avec PIL\n",
    "    color_coverted = cv2.cvtColor(frame, cv2.COLOR_BGR2RGB)\n",
    "    pil_image = Image.fromarray(color_coverted)\n",
    "\n",
    "    # Appliquer les transformations\n",
    "    transformed_image = transform(pil_image)\n",
    "\n",
    "    # Transférer l'image sur le GPU si disponible\n",
    "    if torch.cuda.is_available():\n",
    "        if cuda_count == 0:\n",
    "            print('cuda used')\n",
    "            cuda_count += 1\n",
    "        transformed_image = transformed_image.to('cuda')\n",
    "\n",
    "    # Appliquer l'image au modèle\n",
    "    with torch.no_grad():\n",
    "        output = Icnn(transformed_image.unsqueeze(0))\n",
    "    \n",
    "    # Obtenir la classe prédite\n",
    "    _, predicted_class = torch.max(output, 1)\n",
    "    probabilities = torch.nn.functional.softmax(output, dim=1)\n",
    "    probability = torch.max(probabilities).item()\n",
    "\n",
    "    # Afficher la classe prédite sur l'image\n",
    "    cv2.putText(frame, f'Predicted class: {classes.iloc[predicted_class.item()][\"class\"]}', (10, 30), cv2.FONT_HERSHEY_SIMPLEX, 1, (0, 255, 0), 2, cv2.LINE_AA)\n",
    "    cv2.putText(frame, f'Probability: {probability:.2}', (10, 60), cv2.FONT_HERSHEY_SIMPLEX, 1, (0, 255, 0), 2, cv2.LINE_AA)\n",
    "\n",
    "    # Afficher l'image capturée\n",
    "    cv2.imshow('Camera - Inception_v3 Prediction', frame)\n",
    "\n",
    "    # Break loop avec la touche 'q'\n",
    "    if cv2.waitKey(1) & 0xFF == ord('q'):\n",
    "        break\n",
    "\n",
    "# Libérer la capture et fermer les fenêtres\n",
    "cap.release()\n",
    "cv2.destroyAllWindows()\n"
   ]
  },
  {
   "cell_type": "markdown",
   "id": "f791442a",
   "metadata": {},
   "source": [
    "## Apprentissage des chiffres manuscrits"
   ]
  },
  {
   "cell_type": "code",
   "execution_count": 24,
   "id": "451bdd7a",
   "metadata": {},
   "outputs": [],
   "source": [
    "# Transformer pour normaliser les données MNIST\n",
    "transform = transforms.Compose([transforms.ToTensor(),\n",
    "                                transforms.Normalize((0.5,), (0.5,))])\n",
    "\n",
    "# Télécharger et charger les données d'entraînement\n",
    "trainset = datasets.MNIST('~/.pytorch/MNIST_data/', download=True, train=True, transform=transform)\n",
    "trainloader = torch.utils.data.DataLoader(trainset, batch_size=64, shuffle=True)\n",
    "\n",
    "# Télécharger et charger les données de test\n",
    "testset = datasets.MNIST('~/.pytorch/MNIST_data/', download=True, train=False, transform=transform)\n",
    "testloader = torch.utils.data.DataLoader(testset, batch_size=64, shuffle=False)"
   ]
  },
  {
   "cell_type": "code",
   "execution_count": 25,
   "id": "a680503f",
   "metadata": {},
   "outputs": [],
   "source": [
    "model = nn.Sequential(nn.Linear(784, 50),\n",
    "                      nn.ReLU(),\n",
    "                      nn.Linear(50, 10),\n",
    "                      nn.LogSoftmax(dim=1))"
   ]
  },
  {
   "cell_type": "code",
   "execution_count": 26,
   "id": "2814fa37",
   "metadata": {},
   "outputs": [
    {
     "name": "stdout",
     "output_type": "stream",
     "text": [
      "[0/20] Training loss: 0.5332864940023498\n",
      "[1/20] Training loss: 0.29459302295753953\n",
      "[2/20] Training loss: 0.24529763363174664\n",
      "[3/20] Training loss: 0.2107583527276511\n",
      "[4/20] Training loss: 0.18537115864852852\n",
      "[5/20] Training loss: 0.16577217573010083\n",
      "[6/20] Training loss: 0.15200514398388135\n",
      "[7/20] Training loss: 0.13826709961308153\n",
      "[8/20] Training loss: 0.12944260030698929\n",
      "[9/20] Training loss: 0.12057285347004244\n",
      "[10/20] Training loss: 0.1139357740869686\n",
      "[11/20] Training loss: 0.10671455898125574\n",
      "[12/20] Training loss: 0.10116881918884925\n",
      "[13/20] Training loss: 0.09652218060977043\n",
      "[14/20] Training loss: 0.09195814614912975\n",
      "[15/20] Training loss: 0.08739920501321205\n",
      "[16/20] Training loss: 0.08332427772484831\n",
      "[17/20] Training loss: 0.080144629518845\n",
      "[18/20] Training loss: 0.0763194828541445\n",
      "[19/20] Training loss: 0.07376379754169901\n"
     ]
    }
   ],
   "source": [
    "# Définir la fonction de perte\n",
    "criterion = nn.NLLLoss()\n",
    "\n",
    "# Définir l'optimiseur\n",
    "optimizer = optim.SGD(model.parameters(), lr=0.003, momentum=0.9)\n",
    "\n",
    "# Boucle d'entraînement\n",
    "epochs = 20\n",
    "for e in range(epochs):\n",
    "    running_loss = 0\n",
    "    for images, labels in trainloader:\n",
    "        # Aplatir les images MNIST en un vecteur de 784 longueurs\n",
    "        images = images.view(images.shape[0], -1)\n",
    "    \n",
    "        # Zéro les gradients\n",
    "        optimizer.zero_grad()\n",
    "        \n",
    "        # Forward pass, backward pass, et mise à jour des poids\n",
    "        output = model(images)\n",
    "        loss = criterion(output, labels)\n",
    "        loss.backward()\n",
    "        optimizer.step()\n",
    "        \n",
    "        running_loss += loss.item()\n",
    "    else:\n",
    "        print(f\"[{e}/{epochs}] Training loss: {running_loss/len(trainloader)}\")"
   ]
  },
  {
   "cell_type": "code",
   "execution_count": 27,
   "id": "0c98cd40",
   "metadata": {},
   "outputs": [
    {
     "name": "stdout",
     "output_type": "stream",
     "text": [
      "Accuracy of the network on the 10000 test images: 96.78%\n"
     ]
    }
   ],
   "source": [
    "correct = 0\n",
    "total = 0\n",
    "\n",
    "# Passer en mode d'évaluation\n",
    "model.eval()\n",
    "\n",
    "# Désactiver le calcul du gradient pour l'évaluation\n",
    "with torch.no_grad():\n",
    "    for images, labels in testloader:\n",
    "        images = images.view(images.shape[0], -1)\n",
    "        outputs = model(images)\n",
    "        _, predicted = torch.max(outputs.data, 1)\n",
    "        total += labels.size(0)\n",
    "        correct += (predicted == labels).sum().item()\n",
    "\n",
    "print(f'Accuracy of the network on the 10000 test images: {100 * correct / total}%')"
   ]
  },
  {
   "cell_type": "code",
   "execution_count": null,
   "id": "72051db5",
   "metadata": {},
   "outputs": [],
   "source": []
  }
 ],
 "metadata": {
  "kernelspec": {
   "display_name": "Python 3 (ipykernel)",
   "language": "python",
   "name": "python3"
  },
  "language_info": {
   "codemirror_mode": {
    "name": "ipython",
    "version": 3
   },
   "file_extension": ".py",
   "mimetype": "text/x-python",
   "name": "python",
   "nbconvert_exporter": "python",
   "pygments_lexer": "ipython3",
   "version": "3.9.12"
  }
 },
 "nbformat": 4,
 "nbformat_minor": 5
}
